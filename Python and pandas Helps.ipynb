{
 "cells": [
  {
   "cell_type": "code",
   "execution_count": 1,
   "metadata": {
    "collapsed": false
   },
   "outputs": [
    {
     "name": "stderr",
     "output_type": "stream",
     "text": [
      "C:\\Anaconda\\lib\\site-packages\\pandas\\computation\\__init__.py:19: UserWarning: The installed version of numexpr 2.4.4 is not supported in pandas and will be not be used\n",
      "\n",
      "  UserWarning)\n"
     ]
    }
   ],
   "source": [
    "import pandas as pd\n",
    "import numpy as np"
   ]
  },
  {
   "cell_type": "markdown",
   "metadata": {},
   "source": [
    "#### Create a few dataframes to be used later"
   ]
  },
  {
   "cell_type": "code",
   "execution_count": 4,
   "metadata": {
    "collapsed": true
   },
   "outputs": [],
   "source": [
    "#create data set with monthly quantities for companies a, b, c\n",
    "df_yearmoncomp = pd.DataFrame(np.random.rand(10, 1), columns=['Quantity'])\n",
    "df_yearmoncomp['Month'] = [12,1,1,2,2,12,3,3,4,4]\n",
    "df_yearmoncomp['Year'] = [2015,2016,2016,2016,2016,2015,2016,2016,2015,2016]\n",
    "df_yearmoncomp['Company'] = ['a','b','c','a','b','c','a','b','c','b']"
   ]
  },
  {
   "cell_type": "code",
   "execution_count": 5,
   "metadata": {
    "collapsed": false
   },
   "outputs": [
    {
     "data": {
      "text/html": [
       "<div>\n",
       "<table border=\"1\" class=\"dataframe\">\n",
       "  <thead>\n",
       "    <tr style=\"text-align: right;\">\n",
       "      <th></th>\n",
       "      <th>a</th>\n",
       "      <th>b</th>\n",
       "      <th>c</th>\n",
       "      <th>d</th>\n",
       "      <th>month</th>\n",
       "      <th>year</th>\n",
       "    </tr>\n",
       "  </thead>\n",
       "  <tbody>\n",
       "    <tr>\n",
       "      <th>0</th>\n",
       "      <td>0.305592</td>\n",
       "      <td>0.544801</td>\n",
       "      <td>0.646715</td>\n",
       "      <td>0.191717</td>\n",
       "      <td>12</td>\n",
       "      <td>2015</td>\n",
       "    </tr>\n",
       "    <tr>\n",
       "      <th>1</th>\n",
       "      <td>0.722499</td>\n",
       "      <td>0.676710</td>\n",
       "      <td>0.729673</td>\n",
       "      <td>0.688268</td>\n",
       "      <td>1</td>\n",
       "      <td>2016</td>\n",
       "    </tr>\n",
       "    <tr>\n",
       "      <th>2</th>\n",
       "      <td>0.587219</td>\n",
       "      <td>0.576433</td>\n",
       "      <td>0.653122</td>\n",
       "      <td>0.835143</td>\n",
       "      <td>1</td>\n",
       "      <td>2016</td>\n",
       "    </tr>\n",
       "    <tr>\n",
       "      <th>3</th>\n",
       "      <td>0.606165</td>\n",
       "      <td>0.272991</td>\n",
       "      <td>0.083532</td>\n",
       "      <td>0.482752</td>\n",
       "      <td>2</td>\n",
       "      <td>2016</td>\n",
       "    </tr>\n",
       "    <tr>\n",
       "      <th>4</th>\n",
       "      <td>0.723304</td>\n",
       "      <td>0.147909</td>\n",
       "      <td>0.378562</td>\n",
       "      <td>0.574532</td>\n",
       "      <td>2</td>\n",
       "      <td>2016</td>\n",
       "    </tr>\n",
       "    <tr>\n",
       "      <th>5</th>\n",
       "      <td>0.607789</td>\n",
       "      <td>0.040271</td>\n",
       "      <td>0.856375</td>\n",
       "      <td>0.143306</td>\n",
       "      <td>12</td>\n",
       "      <td>2015</td>\n",
       "    </tr>\n",
       "    <tr>\n",
       "      <th>6</th>\n",
       "      <td>0.769173</td>\n",
       "      <td>0.284904</td>\n",
       "      <td>0.871117</td>\n",
       "      <td>0.914299</td>\n",
       "      <td>3</td>\n",
       "      <td>2016</td>\n",
       "    </tr>\n",
       "    <tr>\n",
       "      <th>7</th>\n",
       "      <td>0.083085</td>\n",
       "      <td>0.808235</td>\n",
       "      <td>0.521538</td>\n",
       "      <td>0.646097</td>\n",
       "      <td>3</td>\n",
       "      <td>2016</td>\n",
       "    </tr>\n",
       "    <tr>\n",
       "      <th>8</th>\n",
       "      <td>0.332913</td>\n",
       "      <td>0.014651</td>\n",
       "      <td>0.489688</td>\n",
       "      <td>0.094011</td>\n",
       "      <td>4</td>\n",
       "      <td>2015</td>\n",
       "    </tr>\n",
       "    <tr>\n",
       "      <th>9</th>\n",
       "      <td>0.096717</td>\n",
       "      <td>0.748926</td>\n",
       "      <td>0.881440</td>\n",
       "      <td>0.320363</td>\n",
       "      <td>4</td>\n",
       "      <td>2016</td>\n",
       "    </tr>\n",
       "  </tbody>\n",
       "</table>\n",
       "</div>"
      ],
      "text/plain": [
       "          a         b         c         d  month  year\n",
       "0  0.305592  0.544801  0.646715  0.191717     12  2015\n",
       "1  0.722499  0.676710  0.729673  0.688268      1  2016\n",
       "2  0.587219  0.576433  0.653122  0.835143      1  2016\n",
       "3  0.606165  0.272991  0.083532  0.482752      2  2016\n",
       "4  0.723304  0.147909  0.378562  0.574532      2  2016\n",
       "5  0.607789  0.040271  0.856375  0.143306     12  2015\n",
       "6  0.769173  0.284904  0.871117  0.914299      3  2016\n",
       "7  0.083085  0.808235  0.521538  0.646097      3  2016\n",
       "8  0.332913  0.014651  0.489688  0.094011      4  2015\n",
       "9  0.096717  0.748926  0.881440  0.320363      4  2016"
      ]
     },
     "execution_count": 5,
     "metadata": {},
     "output_type": "execute_result"
    }
   ],
   "source": [
    "cols = ['a', 'b', 'c','d']\n",
    "df_yearmon = pd.DataFrame(np.random.rand(10, 4), columns=cols)\n",
    "df_yearmon['month'] = [12,1,1,2,2,12,3,3,4,4]\n",
    "df_yearmon['year'] = [2015,2016,2016,2016,2016,2015,2016,2016,2015,2016]\n",
    "df_yearmon"
   ]
  },
  {
   "cell_type": "code",
   "execution_count": 2,
   "metadata": {
    "collapsed": false
   },
   "outputs": [],
   "source": [
    "np.random.seed(2016)\n",
    "cols = ['a_us', 'b_us', 'a_ww','b_ww']\n",
    "df = pd.DataFrame(np.random.rand(5, 4), columns=cols)\n",
    "\n",
    "values1 = ['a', 'b', 'c', 'd','e','f']\n",
    "df1 = pd.DataFrame(np.random.rand(3, 6), columns=values1)\n",
    "\n",
    "values2 = ['a', 'b', 'c', 'd','e','f']\n",
    "df2 = pd.DataFrame(np.random.rand(1, 6), columns=values2)\n",
    "\n",
    "#another easy way of making sample df:\n",
    "df_temp = pd.DataFrame(np.random.rand(1, 4), columns=list('abcd'))"
   ]
  },
  {
   "cell_type": "markdown",
   "metadata": {},
   "source": []
  },
  {
   "cell_type": "code",
   "execution_count": null,
   "metadata": {
    "collapsed": false
   },
   "outputs": [],
   "source": []
  },
  {
   "cell_type": "markdown",
   "metadata": {},
   "source": [
    "# Working with Excel Files"
   ]
  },
  {
   "cell_type": "markdown",
   "metadata": {},
   "source": [
    "### Write to Excel"
   ]
  },
  {
   "cell_type": "code",
   "execution_count": 38,
   "metadata": {
    "collapsed": false
   },
   "outputs": [],
   "source": [
    "cols = ['a_us', 'b_us', 'a_ww','b_ww']\n",
    "df_out = pd.DataFrame(np.random.rand(5, 4), columns=cols)\n",
    "\n",
    "writer = pd.ExcelWriter('testReadWrite.xlsx',engine='xlsxwriter')\n",
    "df_out.to_excel(writer,startcol=0,startrow=0,sheet_name='TestDF')\n"
   ]
  },
  {
   "cell_type": "markdown",
   "metadata": {},
   "source": [
    "### Read in"
   ]
  },
  {
   "cell_type": "code",
   "execution_count": 39,
   "metadata": {
    "collapsed": false
   },
   "outputs": [
    {
     "data": {
      "text/html": [
       "<div>\n",
       "<table border=\"1\" class=\"dataframe\">\n",
       "  <thead>\n",
       "    <tr style=\"text-align: right;\">\n",
       "      <th></th>\n",
       "      <th>a_us</th>\n",
       "      <th>b_us</th>\n",
       "      <th>a_ww</th>\n",
       "      <th>b_ww</th>\n",
       "    </tr>\n",
       "  </thead>\n",
       "  <tbody>\n",
       "    <tr>\n",
       "      <th>0</th>\n",
       "      <td>0.002872</td>\n",
       "      <td>0.460832</td>\n",
       "      <td>0.465699</td>\n",
       "      <td>0.131263</td>\n",
       "    </tr>\n",
       "    <tr>\n",
       "      <th>1</th>\n",
       "      <td>0.846884</td>\n",
       "      <td>0.036582</td>\n",
       "      <td>0.234995</td>\n",
       "      <td>0.236192</td>\n",
       "    </tr>\n",
       "    <tr>\n",
       "      <th>2</th>\n",
       "      <td>0.471498</td>\n",
       "      <td>0.305768</td>\n",
       "      <td>0.648769</td>\n",
       "      <td>0.467451</td>\n",
       "    </tr>\n",
       "    <tr>\n",
       "      <th>3</th>\n",
       "      <td>0.442808</td>\n",
       "      <td>0.672257</td>\n",
       "      <td>0.568147</td>\n",
       "      <td>0.812801</td>\n",
       "    </tr>\n",
       "    <tr>\n",
       "      <th>4</th>\n",
       "      <td>0.486156</td>\n",
       "      <td>0.195099</td>\n",
       "      <td>0.694671</td>\n",
       "      <td>0.152237</td>\n",
       "    </tr>\n",
       "  </tbody>\n",
       "</table>\n",
       "</div>"
      ],
      "text/plain": [
       "       a_us      b_us      a_ww      b_ww\n",
       "0  0.002872  0.460832  0.465699  0.131263\n",
       "1  0.846884  0.036582  0.234995  0.236192\n",
       "2  0.471498  0.305768  0.648769  0.467451\n",
       "3  0.442808  0.672257  0.568147  0.812801\n",
       "4  0.486156  0.195099  0.694671  0.152237"
      ]
     },
     "execution_count": 39,
     "metadata": {},
     "output_type": "execute_result"
    }
   ],
   "source": [
    "df_in = pd.read_excel('testReadWrite.xlsx',sheetname=\"TestDF\")\n",
    "#look at first few lines (can specify a specific number, eg head(6)\n",
    "df_in.head()"
   ]
  },
  {
   "cell_type": "markdown",
   "metadata": {},
   "source": [
    "### Write tabs to an existing workbook"
   ]
  },
  {
   "cell_type": "markdown",
   "metadata": {},
   "source": [
    "##### create dataframes and write first df to excel file"
   ]
  },
  {
   "cell_type": "code",
   "execution_count": 22,
   "metadata": {
    "collapsed": false
   },
   "outputs": [],
   "source": [
    "from openpyxl import load_workbook\n",
    "import time\n",
    "\n",
    "#write to excel\n",
    "writer = pd.ExcelWriter('testbook.xlsx',engine='xlsxwriter')\n",
    "df1.to_excel(writer,startcol=0,startrow=0,sheet_name='DF1')\n",
    "\n",
    "#pause for a couple seconds to write file\n",
    "time.sleep(2)"
   ]
  },
  {
   "cell_type": "markdown",
   "metadata": {},
   "source": [
    "##### write second df to already existing excel file"
   ]
  },
  {
   "cell_type": "code",
   "execution_count": 23,
   "metadata": {
    "collapsed": false
   },
   "outputs": [],
   "source": [
    "book = load_workbook('testbook.xlsx')\n",
    "writer = pd.ExcelWriter('testbook.xlsx', engine='openpyxl') \n",
    "writer.book = book\n",
    "writer.sheets = dict((ws.title, ws) for ws in book.worksheets)\n",
    "\n",
    "df2.to_excel(writer, \"DF2\", columns=['b', 'c'])\n",
    "\n",
    "writer.save()"
   ]
  },
  {
   "cell_type": "markdown",
   "metadata": {},
   "source": [
    "### Write to specifc locations in a worksheet"
   ]
  },
  {
   "cell_type": "code",
   "execution_count": 25,
   "metadata": {
    "collapsed": true
   },
   "outputs": [],
   "source": [
    "#create 2 dataframes\n",
    "df1 = pd.DataFrame(np.random.rand(4,5), columns = list('abcde'))\n",
    "df2 = pd.DataFrame(np.random.rand(4,5), columns = list('fghij'))\n",
    "writer = pd.ExcelWriter('testbook2.xlsx',engine='xlsxwriter')\n",
    "#write dataframes to excel, specifying row and column to start)\n",
    "df1.to_excel(writer,startcol=1,startrow=2,sheet_name='DFs')\n",
    "df2.to_excel(writer,startcol=1,startrow=8,sheet_name='DFs')\n",
    "worksheet = writer.sheets['DFs']\n",
    "#add title to sheet and above each dataframe\n",
    "worksheet.write_string(0, 0, 'Two Dataframes')\n",
    "worksheet.write_string(1, 0, 'Dataframe 1')\n",
    "worksheet.write_string(7, 0, 'Dataframe 2')\n",
    "writer.save()"
   ]
  },
  {
   "cell_type": "markdown",
   "metadata": {},
   "source": [
    "# Row/Column Manipulations"
   ]
  },
  {
   "cell_type": "markdown",
   "metadata": {},
   "source": [
    "### Perform calculations on multiple rows taking advantage of prefixes/suffixes (similar to SAS macro)"
   ]
  },
  {
   "cell_type": "code",
   "execution_count": 154,
   "metadata": {
    "collapsed": false
   },
   "outputs": [
    {
     "data": {
      "text/html": [
       "<div>\n",
       "<table border=\"1\" class=\"dataframe\">\n",
       "  <thead>\n",
       "    <tr style=\"text-align: right;\">\n",
       "      <th></th>\n",
       "      <th>a_us</th>\n",
       "      <th>b_us</th>\n",
       "      <th>a_ww</th>\n",
       "      <th>b_ww</th>\n",
       "      <th>a_row</th>\n",
       "      <th>b_row</th>\n",
       "    </tr>\n",
       "  </thead>\n",
       "  <tbody>\n",
       "    <tr>\n",
       "      <th>0</th>\n",
       "      <td>0.151485</td>\n",
       "      <td>0.301925</td>\n",
       "      <td>0.028507</td>\n",
       "      <td>0.382461</td>\n",
       "      <td>-0.122977</td>\n",
       "      <td>0.080536</td>\n",
       "    </tr>\n",
       "    <tr>\n",
       "      <th>1</th>\n",
       "      <td>0.782492</td>\n",
       "      <td>0.520460</td>\n",
       "      <td>0.315158</td>\n",
       "      <td>0.684032</td>\n",
       "      <td>-0.467333</td>\n",
       "      <td>0.163572</td>\n",
       "    </tr>\n",
       "    <tr>\n",
       "      <th>2</th>\n",
       "      <td>0.755787</td>\n",
       "      <td>0.291101</td>\n",
       "      <td>0.212319</td>\n",
       "      <td>0.466860</td>\n",
       "      <td>-0.543469</td>\n",
       "      <td>0.175758</td>\n",
       "    </tr>\n",
       "    <tr>\n",
       "      <th>3</th>\n",
       "      <td>0.100232</td>\n",
       "      <td>0.411951</td>\n",
       "      <td>0.491221</td>\n",
       "      <td>0.042849</td>\n",
       "      <td>0.390989</td>\n",
       "      <td>-0.369102</td>\n",
       "    </tr>\n",
       "    <tr>\n",
       "      <th>4</th>\n",
       "      <td>0.963324</td>\n",
       "      <td>0.353204</td>\n",
       "      <td>0.155808</td>\n",
       "      <td>0.117041</td>\n",
       "      <td>-0.807516</td>\n",
       "      <td>-0.236163</td>\n",
       "    </tr>\n",
       "  </tbody>\n",
       "</table>\n",
       "</div>"
      ],
      "text/plain": [
       "       a_us      b_us      a_ww      b_ww     a_row     b_row\n",
       "0  0.151485  0.301925  0.028507  0.382461 -0.122977  0.080536\n",
       "1  0.782492  0.520460  0.315158  0.684032 -0.467333  0.163572\n",
       "2  0.755787  0.291101  0.212319  0.466860 -0.543469  0.175758\n",
       "3  0.100232  0.411951  0.491221  0.042849  0.390989 -0.369102\n",
       "4  0.963324  0.353204  0.155808  0.117041 -0.807516 -0.236163"
      ]
     },
     "execution_count": 154,
     "metadata": {},
     "output_type": "execute_result"
    }
   ],
   "source": [
    "#calculate rest of world for a and b (row = ww - us; numbers wont make sense since randomly generated)\n",
    "df_temp = df.copy()\n",
    "for x in ['a','b']:\n",
    "    df_temp[x + '_row'] = df_temp[x + '_ww']-df_temp[x + '_us']\n",
    "df_temp"
   ]
  },
  {
   "cell_type": "markdown",
   "metadata": {},
   "source": [
    "### Delete Column"
   ]
  },
  {
   "cell_type": "code",
   "execution_count": 155,
   "metadata": {
    "collapsed": false
   },
   "outputs": [
    {
     "name": "stdout",
     "output_type": "stream",
     "text": [
      "       a_us      b_us      a_ww      b_ww\n",
      "0  0.151485  0.301925  0.028507  0.382461\n",
      "1  0.782492  0.520460  0.315158  0.684032\n",
      "2  0.755787  0.291101  0.212319  0.466860\n",
      "3  0.100232  0.411951  0.491221  0.042849\n",
      "4  0.963324  0.353204  0.155808  0.117041\n",
      "1st way of deleting:\n",
      "       a_us      b_us      a_ww\n",
      "0  0.151485  0.301925  0.028507\n",
      "1  0.782492  0.520460  0.315158\n",
      "2  0.755787  0.291101  0.212319\n",
      "3  0.100232  0.411951  0.491221\n",
      "4  0.963324  0.353204  0.155808\n",
      "2nd way of deleting:\n",
      "       a_us      b_us      a_ww\n",
      "0  0.151485  0.301925  0.028507\n",
      "1  0.782492  0.520460  0.315158\n",
      "2  0.755787  0.291101  0.212319\n",
      "3  0.100232  0.411951  0.491221\n",
      "4  0.963324  0.353204  0.155808\n"
     ]
    }
   ],
   "source": [
    "#delete column b_ww\n",
    "df_temp = df.copy()\n",
    "print(df_temp)\n",
    "del df_temp['b_ww']\n",
    "print(\"1st way of deleting:\")\n",
    "print(df_temp)\n",
    "\n",
    "#or similar to SAS \"keep\"\n",
    "df_temp = df.copy()\n",
    "df_temp = df_temp[['a_us','b_us','a_ww']]\n",
    "print(\"2nd way of deleting:\")\n",
    "print(df_temp)"
   ]
  },
  {
   "cell_type": "markdown",
   "metadata": {},
   "source": [
    "### Drop columns with a common prefix/suffix"
   ]
  },
  {
   "cell_type": "markdown",
   "metadata": {},
   "source": [
    "##### Drop columns using common prefix"
   ]
  },
  {
   "cell_type": "code",
   "execution_count": 173,
   "metadata": {
    "collapsed": false
   },
   "outputs": [
    {
     "data": {
      "text/html": [
       "<div>\n",
       "<table border=\"1\" class=\"dataframe\">\n",
       "  <thead>\n",
       "    <tr style=\"text-align: right;\">\n",
       "      <th></th>\n",
       "      <th>a_us</th>\n",
       "      <th>a_ww</th>\n",
       "    </tr>\n",
       "  </thead>\n",
       "  <tbody>\n",
       "    <tr>\n",
       "      <th>0</th>\n",
       "      <td>0.706487</td>\n",
       "      <td>0.005603</td>\n",
       "    </tr>\n",
       "    <tr>\n",
       "      <th>1</th>\n",
       "      <td>0.291099</td>\n",
       "      <td>0.132430</td>\n",
       "    </tr>\n",
       "    <tr>\n",
       "      <th>2</th>\n",
       "      <td>0.275922</td>\n",
       "      <td>0.569396</td>\n",
       "    </tr>\n",
       "    <tr>\n",
       "      <th>3</th>\n",
       "      <td>0.094122</td>\n",
       "      <td>0.218767</td>\n",
       "    </tr>\n",
       "    <tr>\n",
       "      <th>4</th>\n",
       "      <td>0.267749</td>\n",
       "      <td>0.137033</td>\n",
       "    </tr>\n",
       "  </tbody>\n",
       "</table>\n",
       "</div>"
      ],
      "text/plain": [
       "       a_us      a_ww\n",
       "0  0.706487  0.005603\n",
       "1  0.291099  0.132430\n",
       "2  0.275922  0.569396\n",
       "3  0.094122  0.218767\n",
       "4  0.267749  0.137033"
      ]
     },
     "execution_count": 173,
     "metadata": {},
     "output_type": "execute_result"
    }
   ],
   "source": [
    "df_temp=df.copy()\n",
    "#drop b\n",
    "cols_to_keep = [c for c in df_temp.columns if c.lower()[:1] != 'b']\n",
    "df_sub=df_temp[cols_to_keep]\n",
    "df_sub.head()"
   ]
  },
  {
   "cell_type": "markdown",
   "metadata": {},
   "source": [
    "##### Drop columns using common suffix"
   ]
  },
  {
   "cell_type": "code",
   "execution_count": 12,
   "metadata": {
    "collapsed": false
   },
   "outputs": [
    {
     "name": "stdout",
     "output_type": "stream",
     "text": [
      "       a_us      b_us\n",
      "0  0.896705  0.730239\n",
      "1  0.462090  0.642565\n",
      "2  0.747126  0.625107\n",
      "3  0.131956  0.143948\n",
      "4  0.069347  0.942829\n",
      "       a_us      b_us\n",
      "0  0.896705  0.730239\n",
      "1  0.462090  0.642565\n",
      "2  0.747126  0.625107\n",
      "3  0.131956  0.143948\n",
      "4  0.069347  0.942829\n"
     ]
    }
   ],
   "source": [
    "df_temp=df.copy()\n",
    "#slice column name by starting 2 from the left through end [2:]\n",
    "cols_to_keep = [c for c in df_temp.columns if c.lower()[2:] != 'ww']\n",
    "df_sub1=df_temp[cols_to_keep]\n",
    "print(df_sub1.head())\n",
    "\n",
    "#or slice column name by taking 2 from the right to the end [-2:]\n",
    "##this is useful in the case that company names are different lengths\n",
    "cols_to_keep = [c for c in df_temp.columns if c.lower()[-2:] != 'ww']\n",
    "df_sub2=df_temp[cols_to_keep]\n",
    "print(df_sub2.head())"
   ]
  },
  {
   "cell_type": "markdown",
   "metadata": {},
   "source": [
    "### Conditionally subset rows"
   ]
  },
  {
   "cell_type": "markdown",
   "metadata": {},
   "source": [
    "##### Subset based on value in 1 column"
   ]
  },
  {
   "cell_type": "code",
   "execution_count": 178,
   "metadata": {
    "collapsed": false
   },
   "outputs": [
    {
     "name": "stdout",
     "output_type": "stream",
     "text": [
      "       a_us      b_us      a_ww      b_ww\n",
      "0  0.706487  0.675229  0.005603  0.517866\n",
      "1  0.291099  0.581805  0.132430  0.750417\n",
      "2  0.275922  0.316089  0.569396  0.892939\n",
      "4  0.267749  0.188252  0.137033  0.083333\n"
     ]
    }
   ],
   "source": [
    "#keep only rows with a_us gt .2\n",
    "df_temp = df.copy()\n",
    "df_temp = df_temp[df_temp.a_us >.2]\n",
    "print(df_temp.head())"
   ]
  },
  {
   "cell_type": "markdown",
   "metadata": {},
   "source": [
    "##### Subset based on null values"
   ]
  },
  {
   "cell_type": "code",
   "execution_count": 179,
   "metadata": {
    "collapsed": false
   },
   "outputs": [
    {
     "name": "stdout",
     "output_type": "stream",
     "text": [
      "       a_us      b_us      a_ww      b_ww\n",
      "0       NaN       NaN       NaN       NaN\n",
      "1       NaN       NaN       NaN       NaN\n",
      "2  0.275922  0.316089  0.569396  0.892939\n",
      "3  0.094122  0.335051  0.218767  0.853052\n",
      "4  0.267749  0.188252  0.137033  0.083333\n",
      "       a_us      b_us      a_ww      b_ww\n",
      "2  0.275922  0.316089  0.569396  0.892939\n",
      "3  0.094122  0.335051  0.218767  0.853052\n",
      "4  0.267749  0.188252  0.137033  0.083333\n"
     ]
    }
   ],
   "source": [
    "#drop rows with null values in b_us\n",
    "df_temp = df.copy()\n",
    "df_temp.ix[df_temp.b_us > .5] = np.NaN\n",
    "print(df_temp.head())\n",
    "df_temp = df_temp[df_temp.b_us.notnull()]\n",
    "print(df_temp.head())"
   ]
  },
  {
   "cell_type": "markdown",
   "metadata": {},
   "source": [
    "##### Keep only certain columns while also subsetting rows conditionally"
   ]
  },
  {
   "cell_type": "code",
   "execution_count": 180,
   "metadata": {
    "collapsed": false
   },
   "outputs": [
    {
     "name": "stdout",
     "output_type": "stream",
     "text": [
      "       a_us      b_us      a_ww      b_ww\n",
      "0  0.706487  0.675229  0.005603  0.517866\n",
      "1  0.291099  0.581805  0.132430  0.750417\n",
      "2  0.275922  0.316089  0.569396  0.892939\n",
      "3  0.094122  0.335051  0.218767  0.853052\n",
      "4  0.267749  0.188252  0.137033  0.083333\n",
      "       a_ww      b_ww\n",
      "0  0.005603  0.517866\n"
     ]
    }
   ],
   "source": [
    "#keep columns a_ww, b_ww and rows conditionally on column a_us\n",
    "df_temp = df.copy()\n",
    "print(df_temp)\n",
    "df_temp = df_temp[df_temp.a_us > 0.6][['a_ww', 'b_ww']]\n",
    "print(df_temp)"
   ]
  },
  {
   "cell_type": "markdown",
   "metadata": {},
   "source": [
    "### Merge "
   ]
  },
  {
   "cell_type": "markdown",
   "metadata": {},
   "source": [
    "See pandas docs for lots more info about merges and joins: http://pandas.pydata.org/pandas-docs/stable/merging.html"
   ]
  },
  {
   "cell_type": "code",
   "execution_count": 165,
   "metadata": {
    "collapsed": false
   },
   "outputs": [
    {
     "name": "stdout",
     "output_type": "stream",
     "text": [
      "df_temp:\n",
      "   Quantity  Month  Year Company\n",
      "0  0.280621     12  2015       a\n",
      "1  0.503912      1  2016       b\n",
      "2  0.239444      1  2016       c\n",
      "3  0.483798      2  2016       a\n",
      "4  0.037326      2  2016       b\n",
      "5  0.067238     12  2015       c\n",
      "6  0.981013      3  2016       a\n",
      "7  0.000389      3  2016       b\n",
      "8  0.977918      4  2015       c\n",
      "9  0.946711      4  2016       b\n",
      "\n",
      " df_temp2:\n",
      "   year  month  Users\n",
      "0  2015      1      3\n",
      "1  2015      3     23\n",
      "2  2016      3      6\n",
      "3  2016      4      4\n",
      "\n",
      " inner (intersection):\n",
      "   Quantity  Month  Year Company  Users\n",
      "0  0.981013      3  2016       a      6\n",
      "1  0.000389      3  2016       b      6\n",
      "2  0.946711      4  2016       b      4\n",
      "\n",
      " outer (union):\n",
      "    Quantity  Month    Year Company  Users\n",
      "0   0.280621   12.0  2015.0       a    NaN\n",
      "1   0.067238   12.0  2015.0       c    NaN\n",
      "2   0.503912    1.0  2016.0       b    NaN\n",
      "3   0.239444    1.0  2016.0       c    NaN\n",
      "4   0.483798    2.0  2016.0       a    NaN\n",
      "5   0.037326    2.0  2016.0       b    NaN\n",
      "6   0.981013    3.0  2016.0       a    6.0\n",
      "7   0.000389    3.0  2016.0       b    6.0\n",
      "8   0.977918    4.0  2015.0       c    NaN\n",
      "9   0.946711    4.0  2016.0       b    4.0\n",
      "10       NaN    NaN     NaN     NaN    3.0\n",
      "11       NaN    NaN     NaN     NaN   23.0\n"
     ]
    }
   ],
   "source": [
    "df_temp = df_yearmoncomp.copy()\n",
    "print(\"df_temp:\")\n",
    "print(df_temp)\n",
    "\n",
    "df_temp2 = pd.DataFrame([[2015,1,3],[2015,3,23],[2016,3,6],[2016,4,4]], columns=['year','month','Users'])\n",
    "print(\"\\n df_temp2:\")\n",
    "print(df_temp2)\n",
    "\n",
    "#inner join using 2 keys\n",
    "df_inner = pd.merge(df_temp,df_temp2,left_on=['Year','Month'],right_on=['year','month'],how='inner')\n",
    "del df_inner['year']\n",
    "del df_inner['month']\n",
    "print(\"\\n inner (intersection):\")\n",
    "print(df_inner)\n",
    "\n",
    "#outer join using 2 keys\n",
    "df_outer = pd.merge(df_temp,df_temp2,left_on=['Year','Month'],right_on=['year','month'],how='outer')\n",
    "del df_outer['year']\n",
    "del df_outer['month']\n",
    "print(\"\\n outer (union):\")\n",
    "print(df_outer)"
   ]
  },
  {
   "cell_type": "markdown",
   "metadata": {},
   "source": [
    "### Transpose long to wide"
   ]
  },
  {
   "cell_type": "code",
   "execution_count": 181,
   "metadata": {
    "collapsed": false
   },
   "outputs": [
    {
     "name": "stdout",
     "output_type": "stream",
     "text": [
      "before transpose:\n",
      "   Year  Month Company  Quantity\n",
      "0  2015     12       a  0.776151\n",
      "1  2016      1       b  0.383140\n",
      "2  2016      1       c  0.057523\n",
      "3  2016      2       a  0.033073\n",
      "4  2016      2       b  0.286594\n",
      "5  2015     12       c  0.366673\n",
      "6  2016      3       a  0.917808\n",
      "7  2016      3       b  0.896885\n",
      "8  2015      4       c  0.382156\n",
      "9  2016      4       b  0.370168\n",
      "\n",
      " after tranpose:\n",
      "   Year  Month         a         b         c\n",
      "0  2015      4       NaN       NaN  0.382156\n",
      "1  2015     12  0.776151       NaN  0.366673\n",
      "2  2016      1       NaN  0.383140  0.057523\n",
      "3  2016      2  0.033073  0.286594       NaN\n",
      "4  2016      3  0.917808  0.896885       NaN\n",
      "5  2016      4       NaN  0.370168       NaN\n"
     ]
    }
   ],
   "source": [
    "df_T = df_yearmoncomp.copy()\n",
    "#reorder variables\n",
    "df_T = df_T[['Year','Month','Company','Quantity']]\n",
    "\n",
    "print(\"before transpose:\")\n",
    "print(df_T)\n",
    "\n",
    "#tranpose long to wide\n",
    "df_T=df_T.pivot_table(values='Quantity', columns='Company',index=['Year','Month'],aggfunc=np.sum)\n",
    "df_T.columns.name=None\n",
    "df_T.reset_index(inplace=True)\n",
    "\n",
    "print(\"\\n after tranpose:\")\n",
    "print(df_T)"
   ]
  },
  {
   "cell_type": "markdown",
   "metadata": {},
   "source": [
    "### Rename columns"
   ]
  },
  {
   "cell_type": "code",
   "execution_count": 182,
   "metadata": {
    "collapsed": false
   },
   "outputs": [
    {
     "data": {
      "text/html": [
       "<div>\n",
       "<table border=\"1\" class=\"dataframe\">\n",
       "  <thead>\n",
       "    <tr style=\"text-align: right;\">\n",
       "      <th></th>\n",
       "      <th>Year</th>\n",
       "      <th>Month</th>\n",
       "      <th>sales_a</th>\n",
       "      <th>sales_b</th>\n",
       "      <th>sales_c</th>\n",
       "    </tr>\n",
       "  </thead>\n",
       "  <tbody>\n",
       "    <tr>\n",
       "      <th>0</th>\n",
       "      <td>2015</td>\n",
       "      <td>4</td>\n",
       "      <td>NaN</td>\n",
       "      <td>NaN</td>\n",
       "      <td>0.382156</td>\n",
       "    </tr>\n",
       "    <tr>\n",
       "      <th>1</th>\n",
       "      <td>2015</td>\n",
       "      <td>12</td>\n",
       "      <td>0.776151</td>\n",
       "      <td>NaN</td>\n",
       "      <td>0.366673</td>\n",
       "    </tr>\n",
       "    <tr>\n",
       "      <th>2</th>\n",
       "      <td>2016</td>\n",
       "      <td>1</td>\n",
       "      <td>NaN</td>\n",
       "      <td>0.383140</td>\n",
       "      <td>0.057523</td>\n",
       "    </tr>\n",
       "    <tr>\n",
       "      <th>3</th>\n",
       "      <td>2016</td>\n",
       "      <td>2</td>\n",
       "      <td>0.033073</td>\n",
       "      <td>0.286594</td>\n",
       "      <td>NaN</td>\n",
       "    </tr>\n",
       "    <tr>\n",
       "      <th>4</th>\n",
       "      <td>2016</td>\n",
       "      <td>3</td>\n",
       "      <td>0.917808</td>\n",
       "      <td>0.896885</td>\n",
       "      <td>NaN</td>\n",
       "    </tr>\n",
       "    <tr>\n",
       "      <th>5</th>\n",
       "      <td>2016</td>\n",
       "      <td>4</td>\n",
       "      <td>NaN</td>\n",
       "      <td>0.370168</td>\n",
       "      <td>NaN</td>\n",
       "    </tr>\n",
       "  </tbody>\n",
       "</table>\n",
       "</div>"
      ],
      "text/plain": [
       "   Year  Month   sales_a   sales_b   sales_c\n",
       "0  2015      4       NaN       NaN  0.382156\n",
       "1  2015     12  0.776151       NaN  0.366673\n",
       "2  2016      1       NaN  0.383140  0.057523\n",
       "3  2016      2  0.033073  0.286594       NaN\n",
       "4  2016      3  0.917808  0.896885       NaN\n",
       "5  2016      4       NaN  0.370168       NaN"
      ]
     },
     "execution_count": 182,
     "metadata": {},
     "output_type": "execute_result"
    }
   ],
   "source": [
    "#NOTE: uses results from tranpose example\n",
    "\n",
    "#rename multiple columns\n",
    "df_T = df_T.rename(columns = {\n",
    "    'a':'sales_a',\n",
    "    'b':'sales_b',\n",
    "        'c':'sales_c'\n",
    "})\n",
    "df_T"
   ]
  },
  {
   "cell_type": "markdown",
   "metadata": {},
   "source": [
    "##### Rename all columns"
   ]
  },
  {
   "cell_type": "code",
   "execution_count": 216,
   "metadata": {
    "collapsed": false
   },
   "outputs": [
    {
     "data": {
      "text/html": [
       "<div>\n",
       "<table border=\"1\" class=\"dataframe\">\n",
       "  <thead>\n",
       "    <tr style=\"text-align: right;\">\n",
       "      <th></th>\n",
       "      <th>Year</th>\n",
       "      <th>Month</th>\n",
       "      <th>Q_a</th>\n",
       "      <th>Q_b</th>\n",
       "      <th>Q_c</th>\n",
       "    </tr>\n",
       "  </thead>\n",
       "  <tbody>\n",
       "    <tr>\n",
       "      <th>0</th>\n",
       "      <td>2015</td>\n",
       "      <td>4</td>\n",
       "      <td>NaN</td>\n",
       "      <td>NaN</td>\n",
       "      <td>0.382156</td>\n",
       "    </tr>\n",
       "    <tr>\n",
       "      <th>1</th>\n",
       "      <td>2015</td>\n",
       "      <td>12</td>\n",
       "      <td>0.776151</td>\n",
       "      <td>NaN</td>\n",
       "      <td>0.366673</td>\n",
       "    </tr>\n",
       "    <tr>\n",
       "      <th>2</th>\n",
       "      <td>2016</td>\n",
       "      <td>1</td>\n",
       "      <td>NaN</td>\n",
       "      <td>0.383140</td>\n",
       "      <td>0.057523</td>\n",
       "    </tr>\n",
       "    <tr>\n",
       "      <th>3</th>\n",
       "      <td>2016</td>\n",
       "      <td>2</td>\n",
       "      <td>0.033073</td>\n",
       "      <td>0.286594</td>\n",
       "      <td>NaN</td>\n",
       "    </tr>\n",
       "    <tr>\n",
       "      <th>4</th>\n",
       "      <td>2016</td>\n",
       "      <td>3</td>\n",
       "      <td>0.917808</td>\n",
       "      <td>0.896885</td>\n",
       "      <td>NaN</td>\n",
       "    </tr>\n",
       "    <tr>\n",
       "      <th>5</th>\n",
       "      <td>2016</td>\n",
       "      <td>4</td>\n",
       "      <td>NaN</td>\n",
       "      <td>0.370168</td>\n",
       "      <td>NaN</td>\n",
       "    </tr>\n",
       "  </tbody>\n",
       "</table>\n",
       "</div>"
      ],
      "text/plain": [
       "   Year  Month       Q_a       Q_b       Q_c\n",
       "0  2015      4       NaN       NaN  0.382156\n",
       "1  2015     12  0.776151       NaN  0.366673\n",
       "2  2016      1       NaN  0.383140  0.057523\n",
       "3  2016      2  0.033073  0.286594       NaN\n",
       "4  2016      3  0.917808  0.896885       NaN\n",
       "5  2016      4       NaN  0.370168       NaN"
      ]
     },
     "execution_count": 216,
     "metadata": {},
     "output_type": "execute_result"
    }
   ],
   "source": [
    "df_temp=df_T.copy()\n",
    "df_temp.columns = ['Year','Month','Q_a','Q_b','Q_c']\n",
    "df_temp"
   ]
  },
  {
   "cell_type": "markdown",
   "metadata": {},
   "source": [
    "### Conditionally fill or replace values"
   ]
  },
  {
   "cell_type": "markdown",
   "metadata": {},
   "source": [
    "##### Conditionally replace values"
   ]
  },
  {
   "cell_type": "code",
   "execution_count": 14,
   "metadata": {
    "collapsed": false
   },
   "outputs": [
    {
     "data": {
      "text/html": [
       "<div>\n",
       "<table border=\"1\" class=\"dataframe\">\n",
       "  <thead>\n",
       "    <tr style=\"text-align: right;\">\n",
       "      <th></th>\n",
       "      <th>Quantity</th>\n",
       "      <th>Month</th>\n",
       "      <th>Year</th>\n",
       "      <th>Company</th>\n",
       "    </tr>\n",
       "  </thead>\n",
       "  <tbody>\n",
       "    <tr>\n",
       "      <th>0</th>\n",
       "      <td>0.933604</td>\n",
       "      <td>12</td>\n",
       "      <td>2017</td>\n",
       "      <td>a</td>\n",
       "    </tr>\n",
       "    <tr>\n",
       "      <th>1</th>\n",
       "      <td>0.000000</td>\n",
       "      <td>1</td>\n",
       "      <td>2016</td>\n",
       "      <td>b</td>\n",
       "    </tr>\n",
       "    <tr>\n",
       "      <th>2</th>\n",
       "      <td>0.579749</td>\n",
       "      <td>1</td>\n",
       "      <td>2016</td>\n",
       "      <td>c</td>\n",
       "    </tr>\n",
       "    <tr>\n",
       "      <th>3</th>\n",
       "      <td>0.088391</td>\n",
       "      <td>2</td>\n",
       "      <td>2016</td>\n",
       "      <td>a</td>\n",
       "    </tr>\n",
       "    <tr>\n",
       "      <th>4</th>\n",
       "      <td>0.000000</td>\n",
       "      <td>2</td>\n",
       "      <td>2016</td>\n",
       "      <td>b</td>\n",
       "    </tr>\n",
       "    <tr>\n",
       "      <th>5</th>\n",
       "      <td>0.477833</td>\n",
       "      <td>12</td>\n",
       "      <td>2017</td>\n",
       "      <td>c</td>\n",
       "    </tr>\n",
       "    <tr>\n",
       "      <th>6</th>\n",
       "      <td>0.073814</td>\n",
       "      <td>3</td>\n",
       "      <td>2016</td>\n",
       "      <td>a</td>\n",
       "    </tr>\n",
       "    <tr>\n",
       "      <th>7</th>\n",
       "      <td>0.000000</td>\n",
       "      <td>3</td>\n",
       "      <td>2016</td>\n",
       "      <td>b</td>\n",
       "    </tr>\n",
       "    <tr>\n",
       "      <th>8</th>\n",
       "      <td>0.697296</td>\n",
       "      <td>4</td>\n",
       "      <td>2017</td>\n",
       "      <td>c</td>\n",
       "    </tr>\n",
       "    <tr>\n",
       "      <th>9</th>\n",
       "      <td>0.000000</td>\n",
       "      <td>4</td>\n",
       "      <td>2016</td>\n",
       "      <td>b</td>\n",
       "    </tr>\n",
       "  </tbody>\n",
       "</table>\n",
       "</div>"
      ],
      "text/plain": [
       "   Quantity  Month  Year Company\n",
       "0  0.933604     12  2017       a\n",
       "1  0.000000      1  2016       b\n",
       "2  0.579749      1  2016       c\n",
       "3  0.088391      2  2016       a\n",
       "4  0.000000      2  2016       b\n",
       "5  0.477833     12  2017       c\n",
       "6  0.073814      3  2016       a\n",
       "7  0.000000      3  2016       b\n",
       "8  0.697296      4  2017       c\n",
       "9  0.000000      4  2016       b"
      ]
     },
     "execution_count": 14,
     "metadata": {},
     "output_type": "execute_result"
    }
   ],
   "source": [
    "df_temp=df_yearmoncomp.copy()\n",
    "#df_temp.ix[df_temp.column_to_look_at, 'column_to_change'] = 0\n",
    "\n",
    "#Set quantity to 0 for all Company b observations\n",
    "df_temp.ix[df_temp.Company =='b', 'Quantity'] = 0\n",
    "#change 2015 to 2017\n",
    "df_temp.ix[df_temp.Year ==2015, 'Year'] = 2017\n",
    "df_temp\n"
   ]
  },
  {
   "cell_type": "markdown",
   "metadata": {},
   "source": [
    "##### Fill values in a column based on values in a different column"
   ]
  },
  {
   "cell_type": "code",
   "execution_count": 185,
   "metadata": {
    "collapsed": false
   },
   "outputs": [
    {
     "name": "stdout",
     "output_type": "stream",
     "text": [
      "before:\n",
      "  language  rank\n",
      "0   python   NaN\n",
      "1      sas   NaN\n",
      "2      sas   NaN\n",
      "3    stata   NaN\n",
      "4   python   NaN\n",
      "\n",
      " after:\n",
      "  language  rank\n",
      "0   python   1.0\n",
      "1      sas   2.0\n",
      "2      sas   2.0\n",
      "3    stata   3.0\n",
      "4   python   1.0\n"
     ]
    }
   ],
   "source": [
    "df_temp = pd.DataFrame(['python','sas','sas','stata','python'], columns=['language'])\n",
    "#create empty rank column\n",
    "df_temp['rank'] = np.NaN\n",
    "print(\"before:\")\n",
    "print(df_temp)\n",
    "#fill values\n",
    "df_temp.loc[df_temp['language'] == 'python', 'rank'] = 1\n",
    "df_temp.loc[df_temp['language'] == 'sas', 'rank'] = 2\n",
    "df_temp.loc[df_temp['language'] == 'stata', 'rank'] = 3\n",
    "print(\"\\n after:\")\n",
    "print(df_temp)"
   ]
  },
  {
   "cell_type": "markdown",
   "metadata": {},
   "source": [
    "##### Replace all values in a row based on value in 1 column"
   ]
  },
  {
   "cell_type": "code",
   "execution_count": 16,
   "metadata": {
    "collapsed": false
   },
   "outputs": [
    {
     "name": "stdout",
     "output_type": "stream",
     "text": [
      "       a_us      b_us      a_ww      b_ww\n",
      "0  0.896705  0.730239  0.783276  0.741652\n",
      "1  0.462090  0.642565  0.224864  0.708547\n",
      "2  0.747126  0.625107  0.579956  0.242640\n",
      "3  1.000000  1.000000  1.000000  1.000000\n",
      "4  0.069347  0.942829  0.372599  0.451989\n",
      "       a_us      b_us      a_ww      b_ww\n",
      "0  0.896705  0.730239  0.783276  0.741652\n",
      "1  0.462090  0.642565  0.224864  0.708547\n",
      "2  0.747126  0.625107  0.579956  0.242640\n",
      "3  1.000000  1.000000  1.000000  1.000000\n",
      "4  0.069347  0.942829  0.372599  0.451989\n"
     ]
    }
   ],
   "source": [
    "#replace all values in row based on value in 1 column\n",
    "df_temp = df.copy()\n",
    "df_temp.ix[df_temp.b_us < .4] = 1\n",
    "print(df_temp)"
   ]
  },
  {
   "cell_type": "markdown",
   "metadata": {},
   "source": [
    "##### Fill values in 1 column conditionally on values in 2 other columns"
   ]
  },
  {
   "cell_type": "code",
   "execution_count": 136,
   "metadata": {
    "collapsed": false
   },
   "outputs": [
    {
     "data": {
      "text/html": [
       "<div>\n",
       "<table border=\"1\" class=\"dataframe\">\n",
       "  <thead>\n",
       "    <tr style=\"text-align: right;\">\n",
       "      <th></th>\n",
       "      <th>a_us</th>\n",
       "      <th>b_us</th>\n",
       "      <th>a_ww</th>\n",
       "      <th>b_ww</th>\n",
       "      <th>a_or_b_large</th>\n",
       "    </tr>\n",
       "  </thead>\n",
       "  <tbody>\n",
       "    <tr>\n",
       "      <th>0</th>\n",
       "      <td>0.394509</td>\n",
       "      <td>0.668635</td>\n",
       "      <td>0.191607</td>\n",
       "      <td>0.369394</td>\n",
       "      <td>0</td>\n",
       "    </tr>\n",
       "    <tr>\n",
       "      <th>1</th>\n",
       "      <td>0.443367</td>\n",
       "      <td>0.349201</td>\n",
       "      <td>0.062144</td>\n",
       "      <td>0.952865</td>\n",
       "      <td>0</td>\n",
       "    </tr>\n",
       "    <tr>\n",
       "      <th>2</th>\n",
       "      <td>0.591099</td>\n",
       "      <td>0.051753</td>\n",
       "      <td>0.957755</td>\n",
       "      <td>0.762796</td>\n",
       "      <td>0</td>\n",
       "    </tr>\n",
       "    <tr>\n",
       "      <th>3</th>\n",
       "      <td>0.860369</td>\n",
       "      <td>0.024662</td>\n",
       "      <td>0.437576</td>\n",
       "      <td>0.360309</td>\n",
       "      <td>1</td>\n",
       "    </tr>\n",
       "    <tr>\n",
       "      <th>4</th>\n",
       "      <td>0.497550</td>\n",
       "      <td>0.009248</td>\n",
       "      <td>0.532356</td>\n",
       "      <td>0.174106</td>\n",
       "      <td>0</td>\n",
       "    </tr>\n",
       "  </tbody>\n",
       "</table>\n",
       "</div>"
      ],
      "text/plain": [
       "       a_us      b_us      a_ww      b_ww  a_or_b_large\n",
       "0  0.394509  0.668635  0.191607  0.369394             0\n",
       "1  0.443367  0.349201  0.062144  0.952865             0\n",
       "2  0.591099  0.051753  0.957755  0.762796             0\n",
       "3  0.860369  0.024662  0.437576  0.360309             1\n",
       "4  0.497550  0.009248  0.532356  0.174106             0"
      ]
     },
     "execution_count": 136,
     "metadata": {},
     "output_type": "execute_result"
    }
   ],
   "source": [
    "df_temp = df.copy()\n",
    "df_temp['a_or_b_large'] = np.where(((df_temp['a_us'] >.7) | (df_temp['b_us'] >.7)), 1, 0)\n",
    "df_temp"
   ]
  },
  {
   "cell_type": "markdown",
   "metadata": {},
   "source": [
    "### Grab slices of dataframes"
   ]
  },
  {
   "cell_type": "code",
   "execution_count": 204,
   "metadata": {
    "collapsed": false
   },
   "outputs": [
    {
     "name": "stdout",
     "output_type": "stream",
     "text": [
      "          c         d         e         f\n",
      "0  0.169423  0.180155  0.352746  0.342806\n",
      "1  0.814922  0.379759  0.160829  0.970478\n",
      "2  0.397825  0.577717  0.492796  0.017519\n",
      "          b         c         d         e         f\n",
      "0  0.033112  0.169423  0.180155  0.352746  0.342806\n",
      "1  0.375779  0.814922  0.379759  0.160829  0.970478\n",
      "2  0.740047  0.397825  0.577717  0.492796  0.017519\n",
      "          b         c         d\n",
      "0  0.033112  0.169423  0.180155\n",
      "1  0.375779  0.814922  0.379759\n",
      "2  0.740047  0.397825  0.577717\n"
     ]
    }
   ],
   "source": [
    "#grab based on column number (columns 2 through end)\n",
    "dfa = df1.ix[:,2:]\n",
    "#grab based on column names (columns 'b' through end)\n",
    "dfb = df1.ix[:,'b':]\n",
    "#grab based on column names (columns 'b' through 'd')\n",
    "dfc = df1.ix[:,'b':'d']\n",
    "print dfa.head()\n",
    "print dfb.head()\n",
    "print dfc.head()"
   ]
  },
  {
   "cell_type": "markdown",
   "metadata": {},
   "source": [
    "### Arithmetic on columns"
   ]
  },
  {
   "cell_type": "code",
   "execution_count": null,
   "metadata": {
    "collapsed": true
   },
   "outputs": [],
   "source": [
    "df['a_us'] = df['a_us'] * 10"
   ]
  },
  {
   "cell_type": "markdown",
   "metadata": {},
   "source": [
    "### Modify a specific cell value"
   ]
  },
  {
   "cell_type": "code",
   "execution_count": 207,
   "metadata": {
    "collapsed": false
   },
   "outputs": [
    {
     "name": "stdout",
     "output_type": "stream",
     "text": [
      "     x    y\n",
      "A  NaN  NaN\n",
      "B  NaN  NaN\n",
      "C  NaN  NaN\n",
      "     x    y\n",
      "A  NaN  NaN\n",
      "B  NaN  NaN\n",
      "C   10  NaN\n"
     ]
    }
   ],
   "source": [
    "df_temp=pd.DataFrame(index=['A','B','C'], columns=['x','y'])\n",
    "print(df_temp)\n",
    "df_temp['x']['C']=10\n",
    "print(df_temp)"
   ]
  },
  {
   "cell_type": "markdown",
   "metadata": {},
   "source": [
    "# Sort and Collapse"
   ]
  },
  {
   "cell_type": "markdown",
   "metadata": {},
   "source": [
    "### Sort"
   ]
  },
  {
   "cell_type": "code",
   "execution_count": 187,
   "metadata": {
    "collapsed": false
   },
   "outputs": [
    {
     "data": {
      "text/html": [
       "<div>\n",
       "<table border=\"1\" class=\"dataframe\">\n",
       "  <thead>\n",
       "    <tr style=\"text-align: right;\">\n",
       "      <th></th>\n",
       "      <th>a</th>\n",
       "      <th>b</th>\n",
       "      <th>c</th>\n",
       "      <th>d</th>\n",
       "      <th>month</th>\n",
       "      <th>year</th>\n",
       "    </tr>\n",
       "  </thead>\n",
       "  <tbody>\n",
       "    <tr>\n",
       "      <th>8</th>\n",
       "      <td>0.901647</td>\n",
       "      <td>0.227954</td>\n",
       "      <td>0.064358</td>\n",
       "      <td>0.994259</td>\n",
       "      <td>4</td>\n",
       "      <td>2015</td>\n",
       "    </tr>\n",
       "    <tr>\n",
       "      <th>0</th>\n",
       "      <td>0.827142</td>\n",
       "      <td>0.370083</td>\n",
       "      <td>0.484798</td>\n",
       "      <td>0.512167</td>\n",
       "      <td>12</td>\n",
       "      <td>2015</td>\n",
       "    </tr>\n",
       "    <tr>\n",
       "      <th>5</th>\n",
       "      <td>0.099361</td>\n",
       "      <td>0.674320</td>\n",
       "      <td>0.618731</td>\n",
       "      <td>0.772061</td>\n",
       "      <td>12</td>\n",
       "      <td>2015</td>\n",
       "    </tr>\n",
       "    <tr>\n",
       "      <th>1</th>\n",
       "      <td>0.947396</td>\n",
       "      <td>0.267417</td>\n",
       "      <td>0.700625</td>\n",
       "      <td>0.589952</td>\n",
       "      <td>1</td>\n",
       "      <td>2016</td>\n",
       "    </tr>\n",
       "    <tr>\n",
       "      <th>2</th>\n",
       "      <td>0.179912</td>\n",
       "      <td>0.520469</td>\n",
       "      <td>0.037285</td>\n",
       "      <td>0.558258</td>\n",
       "      <td>1</td>\n",
       "      <td>2016</td>\n",
       "    </tr>\n",
       "    <tr>\n",
       "      <th>3</th>\n",
       "      <td>0.723997</td>\n",
       "      <td>0.948128</td>\n",
       "      <td>0.638298</td>\n",
       "      <td>0.818449</td>\n",
       "      <td>2</td>\n",
       "      <td>2016</td>\n",
       "    </tr>\n",
       "    <tr>\n",
       "      <th>4</th>\n",
       "      <td>0.758410</td>\n",
       "      <td>0.080450</td>\n",
       "      <td>0.779991</td>\n",
       "      <td>0.838541</td>\n",
       "      <td>2</td>\n",
       "      <td>2016</td>\n",
       "    </tr>\n",
       "    <tr>\n",
       "      <th>6</th>\n",
       "      <td>0.356747</td>\n",
       "      <td>0.933392</td>\n",
       "      <td>0.612924</td>\n",
       "      <td>0.638265</td>\n",
       "      <td>3</td>\n",
       "      <td>2016</td>\n",
       "    </tr>\n",
       "    <tr>\n",
       "      <th>7</th>\n",
       "      <td>0.743848</td>\n",
       "      <td>0.720801</td>\n",
       "      <td>0.001431</td>\n",
       "      <td>0.435029</td>\n",
       "      <td>3</td>\n",
       "      <td>2016</td>\n",
       "    </tr>\n",
       "    <tr>\n",
       "      <th>9</th>\n",
       "      <td>0.307760</td>\n",
       "      <td>0.155673</td>\n",
       "      <td>0.290912</td>\n",
       "      <td>0.232360</td>\n",
       "      <td>4</td>\n",
       "      <td>2016</td>\n",
       "    </tr>\n",
       "  </tbody>\n",
       "</table>\n",
       "</div>"
      ],
      "text/plain": [
       "          a         b         c         d  month  year\n",
       "8  0.901647  0.227954  0.064358  0.994259      4  2015\n",
       "0  0.827142  0.370083  0.484798  0.512167     12  2015\n",
       "5  0.099361  0.674320  0.618731  0.772061     12  2015\n",
       "1  0.947396  0.267417  0.700625  0.589952      1  2016\n",
       "2  0.179912  0.520469  0.037285  0.558258      1  2016\n",
       "3  0.723997  0.948128  0.638298  0.818449      2  2016\n",
       "4  0.758410  0.080450  0.779991  0.838541      2  2016\n",
       "6  0.356747  0.933392  0.612924  0.638265      3  2016\n",
       "7  0.743848  0.720801  0.001431  0.435029      3  2016\n",
       "9  0.307760  0.155673  0.290912  0.232360      4  2016"
      ]
     },
     "execution_count": 187,
     "metadata": {},
     "output_type": "execute_result"
    }
   ],
   "source": [
    "df_temp = df_yearmon.copy()\n",
    "df_temp = df_temp.sort_values(['year','month'])\n",
    "df_temp"
   ]
  },
  {
   "cell_type": "markdown",
   "metadata": {},
   "source": [
    "### Collapse"
   ]
  },
  {
   "cell_type": "code",
   "execution_count": 188,
   "metadata": {
    "collapsed": false
   },
   "outputs": [
    {
     "data": {
      "text/html": [
       "<div>\n",
       "<table border=\"1\" class=\"dataframe\">\n",
       "  <thead>\n",
       "    <tr style=\"text-align: right;\">\n",
       "      <th></th>\n",
       "      <th>year</th>\n",
       "      <th>month</th>\n",
       "      <th>a</th>\n",
       "      <th>b</th>\n",
       "    </tr>\n",
       "  </thead>\n",
       "  <tbody>\n",
       "    <tr>\n",
       "      <th>0</th>\n",
       "      <td>2015</td>\n",
       "      <td>4</td>\n",
       "      <td>0.901647</td>\n",
       "      <td>0.227954</td>\n",
       "    </tr>\n",
       "    <tr>\n",
       "      <th>1</th>\n",
       "      <td>2015</td>\n",
       "      <td>12</td>\n",
       "      <td>0.926503</td>\n",
       "      <td>1.044403</td>\n",
       "    </tr>\n",
       "    <tr>\n",
       "      <th>2</th>\n",
       "      <td>2016</td>\n",
       "      <td>1</td>\n",
       "      <td>1.127308</td>\n",
       "      <td>0.787886</td>\n",
       "    </tr>\n",
       "    <tr>\n",
       "      <th>3</th>\n",
       "      <td>2016</td>\n",
       "      <td>2</td>\n",
       "      <td>1.482407</td>\n",
       "      <td>1.028579</td>\n",
       "    </tr>\n",
       "    <tr>\n",
       "      <th>4</th>\n",
       "      <td>2016</td>\n",
       "      <td>3</td>\n",
       "      <td>1.100595</td>\n",
       "      <td>1.654193</td>\n",
       "    </tr>\n",
       "    <tr>\n",
       "      <th>5</th>\n",
       "      <td>2016</td>\n",
       "      <td>4</td>\n",
       "      <td>0.307760</td>\n",
       "      <td>0.155673</td>\n",
       "    </tr>\n",
       "  </tbody>\n",
       "</table>\n",
       "</div>"
      ],
      "text/plain": [
       "   year  month         a         b\n",
       "0  2015      4  0.901647  0.227954\n",
       "1  2015     12  0.926503  1.044403\n",
       "2  2016      1  1.127308  0.787886\n",
       "3  2016      2  1.482407  1.028579\n",
       "4  2016      3  1.100595  1.654193\n",
       "5  2016      4  0.307760  0.155673"
      ]
     },
     "execution_count": 188,
     "metadata": {},
     "output_type": "execute_result"
    }
   ],
   "source": [
    "#NOTE: uses result from sorting example\n",
    "sumcollapse = df_temp.groupby(by=['year','month'])['a','b'].sum().reset_index()\n",
    "sumcollapse"
   ]
  },
  {
   "cell_type": "code",
   "execution_count": 189,
   "metadata": {
    "collapsed": false
   },
   "outputs": [
    {
     "data": {
      "text/html": [
       "<div>\n",
       "<table border=\"1\" class=\"dataframe\">\n",
       "  <thead>\n",
       "    <tr style=\"text-align: right;\">\n",
       "      <th></th>\n",
       "      <th>year</th>\n",
       "      <th>month</th>\n",
       "      <th>a</th>\n",
       "      <th>b</th>\n",
       "    </tr>\n",
       "  </thead>\n",
       "  <tbody>\n",
       "    <tr>\n",
       "      <th>0</th>\n",
       "      <td>2015</td>\n",
       "      <td>4</td>\n",
       "      <td>0.901647</td>\n",
       "      <td>0.227954</td>\n",
       "    </tr>\n",
       "    <tr>\n",
       "      <th>1</th>\n",
       "      <td>2015</td>\n",
       "      <td>12</td>\n",
       "      <td>0.463252</td>\n",
       "      <td>0.522201</td>\n",
       "    </tr>\n",
       "    <tr>\n",
       "      <th>2</th>\n",
       "      <td>2016</td>\n",
       "      <td>1</td>\n",
       "      <td>0.563654</td>\n",
       "      <td>0.393943</td>\n",
       "    </tr>\n",
       "    <tr>\n",
       "      <th>3</th>\n",
       "      <td>2016</td>\n",
       "      <td>2</td>\n",
       "      <td>0.741203</td>\n",
       "      <td>0.514289</td>\n",
       "    </tr>\n",
       "    <tr>\n",
       "      <th>4</th>\n",
       "      <td>2016</td>\n",
       "      <td>3</td>\n",
       "      <td>0.550298</td>\n",
       "      <td>0.827096</td>\n",
       "    </tr>\n",
       "    <tr>\n",
       "      <th>5</th>\n",
       "      <td>2016</td>\n",
       "      <td>4</td>\n",
       "      <td>0.307760</td>\n",
       "      <td>0.155673</td>\n",
       "    </tr>\n",
       "  </tbody>\n",
       "</table>\n",
       "</div>"
      ],
      "text/plain": [
       "   year  month         a         b\n",
       "0  2015      4  0.901647  0.227954\n",
       "1  2015     12  0.463252  0.522201\n",
       "2  2016      1  0.563654  0.393943\n",
       "3  2016      2  0.741203  0.514289\n",
       "4  2016      3  0.550298  0.827096\n",
       "5  2016      4  0.307760  0.155673"
      ]
     },
     "execution_count": 189,
     "metadata": {},
     "output_type": "execute_result"
    }
   ],
   "source": [
    "meancollapse = df_temp.groupby(by=['year','month'])['a','b'].mean().reset_index()\n",
    "meancollapse"
   ]
  },
  {
   "cell_type": "markdown",
   "metadata": {},
   "source": [
    "### Sums without Collapsing"
   ]
  },
  {
   "cell_type": "code",
   "execution_count": 142,
   "metadata": {
    "collapsed": false
   },
   "outputs": [
    {
     "data": {
      "text/html": [
       "<div>\n",
       "<table border=\"1\" class=\"dataframe\">\n",
       "  <thead>\n",
       "    <tr style=\"text-align: right;\">\n",
       "      <th></th>\n",
       "      <th>Quantity</th>\n",
       "      <th>Month</th>\n",
       "      <th>Year</th>\n",
       "      <th>Company</th>\n",
       "      <th>meaningless_flag</th>\n",
       "      <th>Month_TotalQ</th>\n",
       "      <th>Month_TotalQ_Flagged</th>\n",
       "    </tr>\n",
       "  </thead>\n",
       "  <tbody>\n",
       "    <tr>\n",
       "      <th>8</th>\n",
       "      <td>0.977918</td>\n",
       "      <td>4</td>\n",
       "      <td>2015</td>\n",
       "      <td>c</td>\n",
       "      <td>1</td>\n",
       "      <td>0.977918</td>\n",
       "      <td>0.977918</td>\n",
       "    </tr>\n",
       "    <tr>\n",
       "      <th>0</th>\n",
       "      <td>0.280621</td>\n",
       "      <td>12</td>\n",
       "      <td>2015</td>\n",
       "      <td>a</td>\n",
       "      <td>0</td>\n",
       "      <td>0.347858</td>\n",
       "      <td>NaN</td>\n",
       "    </tr>\n",
       "    <tr>\n",
       "      <th>5</th>\n",
       "      <td>0.067238</td>\n",
       "      <td>12</td>\n",
       "      <td>2015</td>\n",
       "      <td>c</td>\n",
       "      <td>0</td>\n",
       "      <td>0.347858</td>\n",
       "      <td>NaN</td>\n",
       "    </tr>\n",
       "    <tr>\n",
       "      <th>1</th>\n",
       "      <td>0.503912</td>\n",
       "      <td>1</td>\n",
       "      <td>2016</td>\n",
       "      <td>b</td>\n",
       "      <td>1</td>\n",
       "      <td>0.743356</td>\n",
       "      <td>0.743356</td>\n",
       "    </tr>\n",
       "    <tr>\n",
       "      <th>2</th>\n",
       "      <td>0.239444</td>\n",
       "      <td>1</td>\n",
       "      <td>2016</td>\n",
       "      <td>c</td>\n",
       "      <td>1</td>\n",
       "      <td>0.743356</td>\n",
       "      <td>0.743356</td>\n",
       "    </tr>\n",
       "    <tr>\n",
       "      <th>3</th>\n",
       "      <td>0.483798</td>\n",
       "      <td>2</td>\n",
       "      <td>2016</td>\n",
       "      <td>a</td>\n",
       "      <td>0</td>\n",
       "      <td>0.521124</td>\n",
       "      <td>NaN</td>\n",
       "    </tr>\n",
       "    <tr>\n",
       "      <th>4</th>\n",
       "      <td>0.037326</td>\n",
       "      <td>2</td>\n",
       "      <td>2016</td>\n",
       "      <td>b</td>\n",
       "      <td>0</td>\n",
       "      <td>0.521124</td>\n",
       "      <td>NaN</td>\n",
       "    </tr>\n",
       "    <tr>\n",
       "      <th>6</th>\n",
       "      <td>0.981013</td>\n",
       "      <td>3</td>\n",
       "      <td>2016</td>\n",
       "      <td>a</td>\n",
       "      <td>1</td>\n",
       "      <td>0.981401</td>\n",
       "      <td>0.981013</td>\n",
       "    </tr>\n",
       "    <tr>\n",
       "      <th>7</th>\n",
       "      <td>0.000389</td>\n",
       "      <td>3</td>\n",
       "      <td>2016</td>\n",
       "      <td>b</td>\n",
       "      <td>0</td>\n",
       "      <td>0.981401</td>\n",
       "      <td>NaN</td>\n",
       "    </tr>\n",
       "    <tr>\n",
       "      <th>9</th>\n",
       "      <td>0.946711</td>\n",
       "      <td>4</td>\n",
       "      <td>2016</td>\n",
       "      <td>b</td>\n",
       "      <td>1</td>\n",
       "      <td>0.946711</td>\n",
       "      <td>0.946711</td>\n",
       "    </tr>\n",
       "  </tbody>\n",
       "</table>\n",
       "</div>"
      ],
      "text/plain": [
       "   Quantity  Month  Year Company  meaningless_flag  Month_TotalQ  \\\n",
       "8  0.977918      4  2015       c                 1      0.977918   \n",
       "0  0.280621     12  2015       a                 0      0.347858   \n",
       "5  0.067238     12  2015       c                 0      0.347858   \n",
       "1  0.503912      1  2016       b                 1      0.743356   \n",
       "2  0.239444      1  2016       c                 1      0.743356   \n",
       "3  0.483798      2  2016       a                 0      0.521124   \n",
       "4  0.037326      2  2016       b                 0      0.521124   \n",
       "6  0.981013      3  2016       a                 1      0.981401   \n",
       "7  0.000389      3  2016       b                 0      0.981401   \n",
       "9  0.946711      4  2016       b                 1      0.946711   \n",
       "\n",
       "   Month_TotalQ_Flagged  \n",
       "8              0.977918  \n",
       "0                   NaN  \n",
       "5                   NaN  \n",
       "1              0.743356  \n",
       "2              0.743356  \n",
       "3                   NaN  \n",
       "4                   NaN  \n",
       "6              0.981013  \n",
       "7                   NaN  \n",
       "9              0.946711  "
      ]
     },
     "execution_count": 142,
     "metadata": {},
     "output_type": "execute_result"
    }
   ],
   "source": [
    "df_temp = df_yearmoncomp.copy()\n",
    "#create a flag just for use in showing how to use .tranform on the group\n",
    "df_temp['meaningless_flag'] = np.where(((df_temp['Quantity'] >.5) | (df_temp['Month'] ==1)), 1, 0)\n",
    "\n",
    "df_temp = df_temp.sort_values(['Year','Month'])\n",
    "#gets sum by month\n",
    "df_temp[\"Month_TotalQ\"] = df_temp.groupby(['Year', 'Month'])[\"Quantity\"].transform(sum)\n",
    "#includes in monthly sum only if flag =1\n",
    "df_temp[\"Month_TotalQ_Flagged\"] = df_temp[df_temp.meaningless_flag == 1].groupby(['Year', 'Month'])[\"Quantity\"].transform(sum)\n",
    "df_temp"
   ]
  },
  {
   "cell_type": "markdown",
   "metadata": {},
   "source": [
    "### Double collapses"
   ]
  },
  {
   "cell_type": "code",
   "execution_count": 223,
   "metadata": {
    "collapsed": false
   },
   "outputs": [
    {
     "data": {
      "text/html": [
       "<div>\n",
       "<table border=\"1\" class=\"dataframe\">\n",
       "  <thead>\n",
       "    <tr style=\"text-align: right;\">\n",
       "      <th></th>\n",
       "      <th>Quantity</th>\n",
       "      <th>Month</th>\n",
       "      <th>Year</th>\n",
       "      <th>Company</th>\n",
       "    </tr>\n",
       "  </thead>\n",
       "  <tbody>\n",
       "    <tr>\n",
       "      <th>0</th>\n",
       "      <td>0.776151</td>\n",
       "      <td>12</td>\n",
       "      <td>2015</td>\n",
       "      <td>a</td>\n",
       "    </tr>\n",
       "    <tr>\n",
       "      <th>1</th>\n",
       "      <td>0.383140</td>\n",
       "      <td>1</td>\n",
       "      <td>2016</td>\n",
       "      <td>b</td>\n",
       "    </tr>\n",
       "    <tr>\n",
       "      <th>2</th>\n",
       "      <td>0.057523</td>\n",
       "      <td>1</td>\n",
       "      <td>2016</td>\n",
       "      <td>c</td>\n",
       "    </tr>\n",
       "    <tr>\n",
       "      <th>3</th>\n",
       "      <td>0.033073</td>\n",
       "      <td>2</td>\n",
       "      <td>2016</td>\n",
       "      <td>a</td>\n",
       "    </tr>\n",
       "    <tr>\n",
       "      <th>4</th>\n",
       "      <td>0.286594</td>\n",
       "      <td>2</td>\n",
       "      <td>2016</td>\n",
       "      <td>b</td>\n",
       "    </tr>\n",
       "    <tr>\n",
       "      <th>5</th>\n",
       "      <td>0.366673</td>\n",
       "      <td>12</td>\n",
       "      <td>2015</td>\n",
       "      <td>c</td>\n",
       "    </tr>\n",
       "    <tr>\n",
       "      <th>6</th>\n",
       "      <td>0.917808</td>\n",
       "      <td>3</td>\n",
       "      <td>2016</td>\n",
       "      <td>a</td>\n",
       "    </tr>\n",
       "    <tr>\n",
       "      <th>7</th>\n",
       "      <td>0.896885</td>\n",
       "      <td>3</td>\n",
       "      <td>2016</td>\n",
       "      <td>b</td>\n",
       "    </tr>\n",
       "    <tr>\n",
       "      <th>8</th>\n",
       "      <td>0.382156</td>\n",
       "      <td>4</td>\n",
       "      <td>2015</td>\n",
       "      <td>c</td>\n",
       "    </tr>\n",
       "    <tr>\n",
       "      <th>9</th>\n",
       "      <td>0.370168</td>\n",
       "      <td>4</td>\n",
       "      <td>2016</td>\n",
       "      <td>b</td>\n",
       "    </tr>\n",
       "  </tbody>\n",
       "</table>\n",
       "</div>"
      ],
      "text/plain": [
       "   Quantity  Month  Year Company\n",
       "0  0.776151     12  2015       a\n",
       "1  0.383140      1  2016       b\n",
       "2  0.057523      1  2016       c\n",
       "3  0.033073      2  2016       a\n",
       "4  0.286594      2  2016       b\n",
       "5  0.366673     12  2015       c\n",
       "6  0.917808      3  2016       a\n",
       "7  0.896885      3  2016       b\n",
       "8  0.382156      4  2015       c\n",
       "9  0.370168      4  2016       b"
      ]
     },
     "execution_count": 223,
     "metadata": {},
     "output_type": "execute_result"
    }
   ],
   "source": [
    "df_temp = df_yearmoncomp.copy()\n",
    "df_temp"
   ]
  },
  {
   "cell_type": "code",
   "execution_count": 231,
   "metadata": {
    "collapsed": false
   },
   "outputs": [
    {
     "name": "stdout",
     "output_type": "stream",
     "text": [
      "   Quantity  Month  Year Company  cnt\n",
      "0  0.776151     12  2015       a    1\n",
      "1  0.383140      1  2016       b    1\n",
      "2  0.057523      1  2016       c    1\n",
      "3  0.033073      2  2016       a    1\n",
      "4  0.286594      2  2016       b    1\n",
      "5  0.366673     12  2015       c    1\n",
      "6  0.917808      3  2016       a    1\n",
      "7  0.896885      3  2016       b    1\n",
      "8  0.382156      4  2015       c    1\n",
      "9  0.370168      4  2016       b    1\n",
      "\n",
      " count by company and year:\n",
      "  Company  Year  cnt  Quantity\n",
      "0       a  2015    1  0.776151\n",
      "1       a  2016    1  0.950881\n",
      "2       b  2016    1  1.936788\n",
      "3       c  2015    1  0.748829\n",
      "4       c  2016    1  0.057523\n",
      "\n",
      " number of companies in each year:\n",
      "   Year  cnt  Quantity\n",
      "0  2015    2  1.524980\n",
      "1  2016    3  2.945192\n"
     ]
    }
   ],
   "source": [
    "df_temp = df_yearmoncomp.copy()\n",
    "df_temp['cnt']=1\n",
    "print(df_temp)\n",
    "df_temp = df_temp.groupby(by=['Company','Year'])['cnt','Quantity'].sum().reset_index()\n",
    "#replace counts greater than 1 for second collapse\n",
    "df_temp.ix[df_temp.cnt > 1, 'cnt'] = 1\n",
    "print(\"\\n count by company and year:\")\n",
    "print(df_temp)\n",
    "#second collapse\n",
    "df_temp = df_temp.groupby(by=['Year'])['cnt','Quantity'].sum().reset_index()\n",
    "print(\"\\n number of companies in each year:\")\n",
    "print(df_temp)"
   ]
  },
  {
   "cell_type": "markdown",
   "metadata": {},
   "source": [
    "# Descriptive Info"
   ]
  },
  {
   "cell_type": "markdown",
   "metadata": {},
   "source": [
    "### Get unique values for a given variable"
   ]
  },
  {
   "cell_type": "code",
   "execution_count": 190,
   "metadata": {
    "collapsed": false
   },
   "outputs": [
    {
     "name": "stdout",
     "output_type": "stream",
     "text": [
      "[False True]\n"
     ]
    }
   ],
   "source": [
    "#get all unique values for column boo\n",
    "df_temp = df.copy()\n",
    "df_temp['boo'] = df_temp.b_us < .4\n",
    "print(pd.unique(df_temp.boo.ravel()))"
   ]
  },
  {
   "cell_type": "code",
   "execution_count": 139,
   "metadata": {
    "collapsed": false
   },
   "outputs": [
    {
     "data": {
      "text/html": [
       "<div>\n",
       "<table border=\"1\" class=\"dataframe\">\n",
       "  <thead>\n",
       "    <tr style=\"text-align: right;\">\n",
       "      <th></th>\n",
       "      <th>Quantity</th>\n",
       "      <th>Month</th>\n",
       "      <th>Year</th>\n",
       "      <th>Company</th>\n",
       "      <th>meaningless_flag</th>\n",
       "    </tr>\n",
       "  </thead>\n",
       "  <tbody>\n",
       "    <tr>\n",
       "      <th>0</th>\n",
       "      <td>0.280621</td>\n",
       "      <td>12</td>\n",
       "      <td>2015</td>\n",
       "      <td>a</td>\n",
       "      <td>0</td>\n",
       "    </tr>\n",
       "    <tr>\n",
       "      <th>1</th>\n",
       "      <td>0.503912</td>\n",
       "      <td>1</td>\n",
       "      <td>2016</td>\n",
       "      <td>b</td>\n",
       "      <td>1</td>\n",
       "    </tr>\n",
       "    <tr>\n",
       "      <th>2</th>\n",
       "      <td>0.239444</td>\n",
       "      <td>1</td>\n",
       "      <td>2016</td>\n",
       "      <td>c</td>\n",
       "      <td>1</td>\n",
       "    </tr>\n",
       "    <tr>\n",
       "      <th>3</th>\n",
       "      <td>0.483798</td>\n",
       "      <td>2</td>\n",
       "      <td>2016</td>\n",
       "      <td>a</td>\n",
       "      <td>0</td>\n",
       "    </tr>\n",
       "    <tr>\n",
       "      <th>4</th>\n",
       "      <td>0.037326</td>\n",
       "      <td>2</td>\n",
       "      <td>2016</td>\n",
       "      <td>b</td>\n",
       "      <td>0</td>\n",
       "    </tr>\n",
       "    <tr>\n",
       "      <th>5</th>\n",
       "      <td>0.067238</td>\n",
       "      <td>12</td>\n",
       "      <td>2015</td>\n",
       "      <td>c</td>\n",
       "      <td>0</td>\n",
       "    </tr>\n",
       "    <tr>\n",
       "      <th>6</th>\n",
       "      <td>0.981013</td>\n",
       "      <td>3</td>\n",
       "      <td>2016</td>\n",
       "      <td>a</td>\n",
       "      <td>1</td>\n",
       "    </tr>\n",
       "    <tr>\n",
       "      <th>7</th>\n",
       "      <td>0.000389</td>\n",
       "      <td>3</td>\n",
       "      <td>2016</td>\n",
       "      <td>b</td>\n",
       "      <td>0</td>\n",
       "    </tr>\n",
       "    <tr>\n",
       "      <th>8</th>\n",
       "      <td>0.977918</td>\n",
       "      <td>4</td>\n",
       "      <td>2015</td>\n",
       "      <td>c</td>\n",
       "      <td>1</td>\n",
       "    </tr>\n",
       "    <tr>\n",
       "      <th>9</th>\n",
       "      <td>0.946711</td>\n",
       "      <td>4</td>\n",
       "      <td>2016</td>\n",
       "      <td>b</td>\n",
       "      <td>1</td>\n",
       "    </tr>\n",
       "  </tbody>\n",
       "</table>\n",
       "</div>"
      ],
      "text/plain": [
       "   Quantity  Month  Year Company  meaningless_flag\n",
       "0  0.280621     12  2015       a                 0\n",
       "1  0.503912      1  2016       b                 1\n",
       "2  0.239444      1  2016       c                 1\n",
       "3  0.483798      2  2016       a                 0\n",
       "4  0.037326      2  2016       b                 0\n",
       "5  0.067238     12  2015       c                 0\n",
       "6  0.981013      3  2016       a                 1\n",
       "7  0.000389      3  2016       b                 0\n",
       "8  0.977918      4  2015       c                 1\n",
       "9  0.946711      4  2016       b                 1"
      ]
     },
     "execution_count": 139,
     "metadata": {},
     "output_type": "execute_result"
    }
   ],
   "source": [
    "df_temp = df_yearmoncomp.copy()\n",
    "df_temp['meaningless_flag'] = np.where(((df_temp['Quantity'] >.5) | (df_temp['Month'] ==1)), 1, 0)\n",
    "df_temp"
   ]
  },
  {
   "cell_type": "markdown",
   "metadata": {},
   "source": [
    "# Save a dataframe (and load saved df)"
   ]
  },
  {
   "cell_type": "code",
   "execution_count": null,
   "metadata": {
    "collapsed": true
   },
   "outputs": [],
   "source": [
    "df.to_pickle(\"temp_file.pkl\")\n",
    "df = pd.read_pickle('temp_file.pkl')"
   ]
  },
  {
   "cell_type": "code",
   "execution_count": null,
   "metadata": {
    "collapsed": true
   },
   "outputs": [],
   "source": []
  },
  {
   "cell_type": "code",
   "execution_count": null,
   "metadata": {
    "collapsed": true
   },
   "outputs": [],
   "source": []
  },
  {
   "cell_type": "code",
   "execution_count": null,
   "metadata": {
    "collapsed": true
   },
   "outputs": [],
   "source": []
  },
  {
   "cell_type": "code",
   "execution_count": null,
   "metadata": {
    "collapsed": true
   },
   "outputs": [],
   "source": []
  },
  {
   "cell_type": "markdown",
   "metadata": {},
   "source": [
    "# Numpy stuff"
   ]
  },
  {
   "cell_type": "markdown",
   "metadata": {},
   "source": [
    "### Create empty numpy array to work with"
   ]
  },
  {
   "cell_type": "code",
   "execution_count": 209,
   "metadata": {
    "collapsed": false
   },
   "outputs": [
    {
     "data": {
      "text/plain": [
       "array([[ 0.,  0.],\n",
       "       [ 0.,  0.],\n",
       "       [ 0.,  0.],\n",
       "       [ 0.,  0.]])"
      ]
     },
     "execution_count": 209,
     "metadata": {},
     "output_type": "execute_result"
    }
   ],
   "source": [
    "np.zeros(shape=(4,2))"
   ]
  },
  {
   "cell_type": "markdown",
   "metadata": {},
   "source": [
    "### Convert slice of df to numpy array"
   ]
  },
  {
   "cell_type": "code",
   "execution_count": 211,
   "metadata": {
    "collapsed": false
   },
   "outputs": [
    {
     "data": {
      "text/plain": [
       "array([[ 0.89670536,  0.73023921,  0.78327576,  0.74165167],\n",
       "       [ 0.4620905 ,  0.64256513,  0.22486422,  0.70854663],\n",
       "       [ 0.74712601,  0.62510742,  0.57995641,  0.24264034],\n",
       "       [ 0.13195639,  0.14394847,  0.60363797,  0.58879082],\n",
       "       [ 0.06934744,  0.94282887,  0.37259879,  0.45198934]])"
      ]
     },
     "execution_count": 211,
     "metadata": {},
     "output_type": "execute_result"
    }
   ],
   "source": [
    "np_arr = df.ix[:,:4].values\n",
    "np_arr"
   ]
  },
  {
   "cell_type": "markdown",
   "metadata": {},
   "source": [
    "### Get length of array"
   ]
  },
  {
   "cell_type": "code",
   "execution_count": 212,
   "metadata": {
    "collapsed": false
   },
   "outputs": [
    {
     "data": {
      "text/plain": [
       "5"
      ]
     },
     "execution_count": 212,
     "metadata": {},
     "output_type": "execute_result"
    }
   ],
   "source": [
    "len(np_arr)"
   ]
  },
  {
   "cell_type": "markdown",
   "metadata": {},
   "source": [
    "### Define a function"
   ]
  },
  {
   "cell_type": "code",
   "execution_count": 213,
   "metadata": {
    "collapsed": true
   },
   "outputs": [],
   "source": [
    "def eqns(d):\n",
    "    #enter function equations and stuff here.\n",
    "    eqn = np.zeros(2)\n",
    "    eqn[0]=np.log(d(0));\n",
    "    eqn[1]=np.log(d(1))+1;\n",
    "    return eqn"
   ]
  },
  {
   "cell_type": "markdown",
   "metadata": {},
   "source": [
    "### While loop"
   ]
  },
  {
   "cell_type": "code",
   "execution_count": null,
   "metadata": {
    "collapsed": true
   },
   "outputs": [],
   "source": [
    "maxt=6\n",
    "t=0\n",
    "#this wont run since not all variables are defined in this notebook.\n",
    "while t<maxt:\n",
    "    ds=np.log(s[t,0:3])-np.log(s[t,3].T)\n",
    "    dn = sp.optimize.fsolve(eqns,ds)\n",
    "    dn[0]=dn[0]+.01*vdiff[t]\n",
    "    snew[:,t]=sp.optimize.fsolve(eqns2,s[t,:].T)\n",
    "    t=t+1"
   ]
  },
  {
   "cell_type": "markdown",
   "metadata": {},
   "source": [
    "### Tranpose array"
   ]
  },
  {
   "cell_type": "code",
   "execution_count": null,
   "metadata": {
    "collapsed": true
   },
   "outputs": [],
   "source": [
    "transpose=arrayname.T"
   ]
  },
  {
   "cell_type": "markdown",
   "metadata": {},
   "source": [
    "# Random stuff"
   ]
  },
  {
   "cell_type": "code",
   "execution_count": 33,
   "metadata": {
    "collapsed": false
   },
   "outputs": [
    {
     "name": "stdout",
     "output_type": "stream",
     "text": [
      "        City      Borough\n",
      "0   Brooklyn     Brooklyn\n",
      "1    Astoria       Queens\n",
      "2    Astoria  Unspecified\n",
      "3  Ridgewood  Unspecified\n",
      "4  Ridgewood       Queens\n"
     ]
    }
   ],
   "source": [
    "#fill in the unspecified values in this dataframe:\n",
    "data = pd.DataFrame([['Brooklyn','Brooklyn'],['Astoria','Queens'],['Astoria','Unspecified'],['Ridgewood','Unspecified'],['Ridgewood','Queens']], columns=['City','Borough'])\n",
    "print(data)"
   ]
  },
  {
   "cell_type": "code",
   "execution_count": 36,
   "metadata": {
    "collapsed": false
   },
   "outputs": [
    {
     "data": {
      "text/plain": [
       "{'Astoria': 'Queens', 'Brooklyn': 'Brooklyn', 'Ridgewood': 'Queens'}"
      ]
     },
     "execution_count": 36,
     "metadata": {},
     "output_type": "execute_result"
    }
   ],
   "source": [
    "\n",
    "specified = data[['Borough','City']][data['Borough']!= 'Unspecified']\n",
    "paired = specified.Borough.groupby(specified.City).max()\n",
    "paired = paired.to_dict()\n",
    "#data['Borough'] = data.City.map(paired['Borough'])\n",
    "paired"
   ]
  },
  {
   "cell_type": "code",
   "execution_count": 27,
   "metadata": {
    "collapsed": false
   },
   "outputs": [
    {
     "ename": "KeyError",
     "evalue": "'Borough'",
     "output_type": "error",
     "traceback": [
      "\u001b[1;31m---------------------------------------------------------------------------\u001b[0m",
      "\u001b[1;31mKeyError\u001b[0m                                  Traceback (most recent call last)",
      "\u001b[1;32m<ipython-input-27-262c1a14cdc3>\u001b[0m in \u001b[0;36m<module>\u001b[1;34m()\u001b[0m\n\u001b[1;32m----> 1\u001b[1;33m \u001b[0mdata\u001b[0m\u001b[1;33m[\u001b[0m\u001b[1;34m'Borough'\u001b[0m\u001b[1;33m]\u001b[0m \u001b[1;33m=\u001b[0m \u001b[0mdata\u001b[0m\u001b[1;33m.\u001b[0m\u001b[0mCity\u001b[0m\u001b[1;33m.\u001b[0m\u001b[0mmap\u001b[0m\u001b[1;33m(\u001b[0m\u001b[0mpaired\u001b[0m\u001b[1;33m[\u001b[0m\u001b[1;34m'Borough'\u001b[0m\u001b[1;33m]\u001b[0m\u001b[1;33m)\u001b[0m\u001b[1;33m\u001b[0m\u001b[0m\n\u001b[0m",
      "\u001b[1;31mKeyError\u001b[0m: 'Borough'"
     ]
    }
   ],
   "source": []
  },
  {
   "cell_type": "code",
   "execution_count": 32,
   "metadata": {
    "collapsed": false
   },
   "outputs": [
    {
     "data": {
      "text/html": [
       "<div>\n",
       "<table border=\"1\" class=\"dataframe\">\n",
       "  <thead>\n",
       "    <tr style=\"text-align: right;\">\n",
       "      <th></th>\n",
       "      <th>City</th>\n",
       "      <th>Borough</th>\n",
       "    </tr>\n",
       "  </thead>\n",
       "  <tbody>\n",
       "    <tr>\n",
       "      <th>0</th>\n",
       "      <td>Brooklyn</td>\n",
       "      <td>Brooklyn</td>\n",
       "    </tr>\n",
       "    <tr>\n",
       "      <th>1</th>\n",
       "      <td>Astoria</td>\n",
       "      <td>Queens</td>\n",
       "    </tr>\n",
       "    <tr>\n",
       "      <th>2</th>\n",
       "      <td>Astoria</td>\n",
       "      <td>Queens</td>\n",
       "    </tr>\n",
       "    <tr>\n",
       "      <th>3</th>\n",
       "      <td>Ridgewood</td>\n",
       "      <td>Queens</td>\n",
       "    </tr>\n",
       "    <tr>\n",
       "      <th>4</th>\n",
       "      <td>Ridgewood</td>\n",
       "      <td>Queens</td>\n",
       "    </tr>\n",
       "  </tbody>\n",
       "</table>\n",
       "</div>"
      ],
      "text/plain": [
       "        City   Borough\n",
       "0   Brooklyn  Brooklyn\n",
       "1    Astoria    Queens\n",
       "2    Astoria    Queens\n",
       "3  Ridgewood    Queens\n",
       "4  Ridgewood    Queens"
      ]
     },
     "execution_count": 32,
     "metadata": {},
     "output_type": "execute_result"
    }
   ],
   "source": [
    "realData = data[data.Borough != \"Unspecified\"]\n",
    "realData = pd.Series(data=realData.Borough.values, index=realData.City)\n",
    "data['Borough'] = data.City.map(realData)\n",
    "data"
   ]
  },
  {
   "cell_type": "code",
   "execution_count": null,
   "metadata": {
    "collapsed": true
   },
   "outputs": [],
   "source": []
  }
 ],
 "metadata": {
  "kernelspec": {
   "display_name": "Python 2",
   "language": "python",
   "name": "python2"
  },
  "language_info": {
   "codemirror_mode": {
    "name": "ipython",
    "version": 2
   },
   "file_extension": ".py",
   "mimetype": "text/x-python",
   "name": "python",
   "nbconvert_exporter": "python",
   "pygments_lexer": "ipython2",
   "version": "2.7.13"
  }
 },
 "nbformat": 4,
 "nbformat_minor": 0
}
